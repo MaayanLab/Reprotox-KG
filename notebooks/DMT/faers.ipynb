{
 "cells": [
  {
   "cell_type": "code",
   "execution_count": 1,
   "metadata": {},
   "outputs": [],
   "source": [
    "import pandas as pd\n",
    "import json\n",
    "import requests\n",
    "import time\n",
    "import tqdm"
   ]
  },
  {
   "cell_type": "code",
   "execution_count": 2,
   "metadata": {},
   "outputs": [],
   "source": [
    "url = \"https://s3.amazonaws.com/maayan-kg/reprotox/drugsto_faers_male.valid.json\"\n",
    "res = requests.get(url)\n",
    "serialization = res.json()"
   ]
  },
  {
   "cell_type": "code",
   "execution_count": 3,
   "metadata": {},
   "outputs": [],
   "source": [
    "drug_sets = {}\n",
    "for i in serialization[\"edges\"]:\n",
    "    bd = i[\"properties\"][\"target_label\"]\n",
    "    dr = i[\"properties\"][\"source_label\"]\n",
    "    label = \"%s male\"%bd \n",
    "    if label not in drug_sets:\n",
    "        drug_sets[label] = set()\n",
    "    drug_sets[label].add(dr)"
   ]
  },
  {
   "cell_type": "code",
   "execution_count": 4,
   "metadata": {},
   "outputs": [],
   "source": [
    "url = \"https://s3.amazonaws.com/maayan-kg/reprotox/drugsto_faers_female.valid.json\"\n",
    "res = requests.get(url)\n",
    "serialization = res.json()"
   ]
  },
  {
   "cell_type": "code",
   "execution_count": 5,
   "metadata": {},
   "outputs": [],
   "source": [
    "for i in serialization[\"edges\"]:\n",
    "    bd = i[\"properties\"][\"target_label\"]\n",
    "    dr = i[\"properties\"][\"source_label\"]\n",
    "    label = \"%s female\"%bd \n",
    "    if label not in drug_sets:\n",
    "        drug_sets[label] = set()\n",
    "    drug_sets[label].add(dr)"
   ]
  },
  {
   "cell_type": "code",
   "execution_count": 6,
   "metadata": {},
   "outputs": [
    {
     "data": {
      "text/plain": [
       "64"
      ]
     },
     "execution_count": 6,
     "metadata": {},
     "output_type": "execute_result"
    }
   ],
   "source": [
    "len(drug_sets)"
   ]
  },
  {
   "cell_type": "code",
   "execution_count": 8,
   "metadata": {},
   "outputs": [],
   "source": [
    "with open(\"output/FAERS.dmt\", 'w') as o:\n",
    "    for k,v in drug_sets.items():\n",
    "        row = [k, ''] + list(v)\n",
    "        o.write(\"\\t\".join(row))\n",
    "        o.write(\"\\n\")\n"
   ]
  },
  {
   "cell_type": "code",
   "execution_count": 8,
   "metadata": {},
   "outputs": [],
   "source": [
    "from supervenn import supervenn"
   ]
  },
  {
   "cell_type": "code",
   "execution_count": 10,
   "metadata": {},
   "outputs": [
    {
     "data": {
      "text/plain": [
       "dict_keys(['Atrial septal defect male', 'Ventricular septal defect male', 'Patent ductus arteriosus male', 'Pulmonary valve stenosis male', 'Coarctation of the aorta male', 'Bicuspid aortic valve male', 'Hypoplastic left heart syndrome male', 'Cerebellar atrophy male', 'Aortic dissection male', 'Trisomy 21 male', 'Low set ears male', 'Double outlet right ventricle male', 'Cleft palate male', 'Microtia male', 'Spinal cord compression male', 'Cleft lip male', 'Aortic aneurysm male', 'Anencephaly male', 'Diaphragmatic hernia male', 'Trisomy 18 male', 'Spina bifida male', 'Hydrocephalus male', 'Cerebral atrophy male', 'Right aortic arch male', 'Aortic valve prolapse male', 'Facial asymmetry male', 'Aortic rupture male', 'Pulmonary artery stenosis male', 'Dextrocardia male', 'Gastroschisis male', 'Endocardial fibroelastosis male', 'Cerebellar hypoplasia male', 'Atrial septal defect female', 'Ventricular septal defect female', 'Patent ductus arteriosus female', 'Pulmonary valve stenosis female', 'Cerebellar atrophy female', 'Facial asymmetry female', 'Coarctation of the aorta female', 'Microtia female', 'Trisomy 21 female', 'Aortic dissection female', 'Spina bifida female', 'Low set ears female', 'Cleft palate female', 'Hypoplastic left heart syndrome female', 'Cerebral atrophy female', 'Bicuspid aortic valve female', 'Trisomy 18 female', 'Spinal cord compression female', 'Anencephaly female', 'Aortic aneurysm female', 'Hydrocephalus female', 'Gastroschisis female', 'Pulmonary artery dilatation female', 'Cleft lip female', 'Pulmonary artery aneurysm female', 'Double outlet right ventricle female', 'Diaphragmatic hernia female', 'Right aortic arch female', 'Cerebral palsy female', 'Persistent left superior vena cava female', 'Pulmonary artery stenosis female', 'Aortic rupture female'])"
      ]
     },
     "execution_count": 10,
     "metadata": {},
     "output_type": "execute_result"
    }
   ],
   "source": [
    "drug_sets.keys()"
   ]
  },
  {
   "cell_type": "code",
   "execution_count": null,
   "metadata": {},
   "outputs": [],
   "source": []
  }
 ],
 "metadata": {
  "kernelspec": {
   "display_name": "venv",
   "language": "python",
   "name": "python3"
  },
  "language_info": {
   "codemirror_mode": {
    "name": "ipython",
    "version": 3
   },
   "file_extension": ".py",
   "mimetype": "text/x-python",
   "name": "python",
   "nbconvert_exporter": "python",
   "pygments_lexer": "ipython3",
   "version": "3.9.16"
  },
  "orig_nbformat": 4,
  "vscode": {
   "interpreter": {
    "hash": "43fa70dbc3e0e900c09e1e9e147b0eb772ee319912638d9a00663e86ab5de451"
   }
  }
 },
 "nbformat": 4,
 "nbformat_minor": 2
}
