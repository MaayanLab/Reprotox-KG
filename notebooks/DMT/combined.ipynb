{
 "cells": [
  {
   "cell_type": "code",
   "execution_count": 1,
   "metadata": {},
   "outputs": [],
   "source": [
    "from glob import glob\n",
    "import pandas as pd\n",
    "import matplotlib.pyplot as plt\n",
    "from tqdm import tqdm"
   ]
  },
  {
   "cell_type": "code",
   "execution_count": 2,
   "metadata": {},
   "outputs": [],
   "source": [
    "drug_sets = {}\n",
    "for i in glob(\"output/*.dmt\"):\n",
    "    with open(i) as o:\n",
    "        lib = i.replace(\"output/\", \"\").replace(\".dmt\", \"\")\n",
    "        if not lib == \"resources\":\n",
    "            if lib == \"Schaefer_2015\":\n",
    "                lib = \"Schaefer et al. 2015\"\n",
    "                pass\n",
    "            if lib == \"FDA\":\n",
    "                pass\n",
    "            else:\n",
    "                drug_sets[lib] = set()\n",
    "                for line in o:\n",
    "                    drugs = line.strip().split(\"\\t\")[2:]\n",
    "                    for drug in drugs:\n",
    "                        drug_sets[lib].add(drug)\n"
   ]
  },
  {
   "cell_type": "code",
   "execution_count": 3,
   "metadata": {},
   "outputs": [
    {
     "data": {
      "text/plain": [
       "dict_keys(['DrugCentral', 'Schaefer et al. 2015', 'Drugshot', 'FAERS', 'National_Birth_Defects_Registry'])"
      ]
     },
     "execution_count": 3,
     "metadata": {},
     "output_type": "execute_result"
    }
   ],
   "source": [
    "drug_sets.keys()"
   ]
  },
  {
   "cell_type": "code",
   "execution_count": 4,
   "metadata": {},
   "outputs": [],
   "source": [
    "pmid = \"De Santis et. al. 2004\"\n",
    "title = \"Risk of drug-induced congenital defects\"\n",
    "drug_set = [\n",
    "    # \"ACE inhibitor\",\n",
    "    # \"angiotensin II inhibitors\",\n",
    "    \"aminoglycoside\",\n",
    "    \"streptomycin\",\n",
    "    \"kanamycin\",\n",
    "    \"tetracycline\",\n",
    "    \"carbamazepine\",\n",
    "    \"valproic acid\",\n",
    "    \"phenobarbital\",\n",
    "    \"barbiturate\",\n",
    "    \"trimethadione\",\n",
    "    \"paramethadione\",\n",
    "    \"benzodiazepine\",\n",
    "    \"aminoptherine\",\n",
    "    \"busulfan\",\n",
    "    \"cyclophosphamide\",\n",
    "    \"coumarin\",\n",
    "    \"diethylstilbestrol\",\n",
    "    \"ergotamine\",\n",
    "    # \"NSAD\",\n",
    "    \"iodine\",\n",
    "    \"lithium\",\n",
    "    \"methimazole\",\n",
    "    \"misoprostol\",\n",
    "    \"penicillamine\",\n",
    "    \"retinoid\",\n",
    "    \"isotretinoin\",\n",
    "    \"etretinate\",\n",
    "    \"vitamin A\",\n",
    "    \"thalidomide\"\n",
    "]\n",
    "\n",
    "drug_sets[pmid] = drug_set"
   ]
  },
  {
   "cell_type": "code",
   "execution_count": 5,
   "metadata": {},
   "outputs": [],
   "source": [
    "pmid = \"Dawson et. al. 2014\"\n",
    "title = \"Maternal exposure to methotrexate and birth defects: a population-based study\"\n",
    "drug_set = [\n",
    "    \"methotrexate\"\n",
    "]\n",
    "drug_sets[pmid] = drug_set"
   ]
  },
  {
   "cell_type": "code",
   "execution_count": 6,
   "metadata": {},
   "outputs": [],
   "source": [
    "pmid = \"Schaefer 2011\"\n",
    "drug_set = [\n",
    "    \"phenprocoumon\",\n",
    "    \"acenocoumarol\",\n",
    "    \"fluindione\",\n",
    "    \"warfarin\",\n",
    "    \"phenindione\",\n",
    "    \"isotretinoin\",\n",
    "    \"thalidomide\",\n",
    "    \"ACE inhibitor\",\n",
    "    \"angiotensin II inhibitors\", \n",
    "]\n",
    "drug_sets[pmid] = drug_set"
   ]
  },
  {
   "cell_type": "code",
   "execution_count": 7,
   "metadata": {},
   "outputs": [],
   "source": [
    "pmid = \"Tinker et. al. 2015\"\n",
    "drug_set = [\n",
    "    \"mycophenolate mofetil\"\n",
    "]\n",
    "\n",
    "drug_sets[pmid] = drug_set"
   ]
  },
  {
   "cell_type": "code",
   "execution_count": 8,
   "metadata": {},
   "outputs": [
    {
     "data": {
      "text/html": [
       "<div>\n",
       "<style scoped>\n",
       "    .dataframe tbody tr th:only-of-type {\n",
       "        vertical-align: middle;\n",
       "    }\n",
       "\n",
       "    .dataframe tbody tr th {\n",
       "        vertical-align: top;\n",
       "    }\n",
       "\n",
       "    .dataframe thead th {\n",
       "        text-align: right;\n",
       "    }\n",
       "</style>\n",
       "<table border=\"1\" class=\"dataframe\">\n",
       "  <thead>\n",
       "    <tr style=\"text-align: right;\">\n",
       "      <th></th>\n",
       "      <th>Year of FDA approval</th>\n",
       "      <th>TERIS risk rating</th>\n",
       "      <th>Quality of Data</th>\n",
       "      <th>FDA Category</th>\n",
       "      <th>Unnamed: 5</th>\n",
       "      <th>Unnamed: 6</th>\n",
       "    </tr>\n",
       "    <tr>\n",
       "      <th>Drug</th>\n",
       "      <th></th>\n",
       "      <th></th>\n",
       "      <th></th>\n",
       "      <th></th>\n",
       "      <th></th>\n",
       "      <th></th>\n",
       "    </tr>\n",
       "  </thead>\n",
       "  <tbody>\n",
       "    <tr>\n",
       "      <th>Abarelix</th>\n",
       "      <td>2003.0</td>\n",
       "      <td>Undetermined</td>\n",
       "      <td>None</td>\n",
       "      <td>X</td>\n",
       "      <td>NaN</td>\n",
       "      <td>NaN</td>\n",
       "    </tr>\n",
       "    <tr>\n",
       "      <th>Acamprosate</th>\n",
       "      <td>2004.0</td>\n",
       "      <td>Undetermined</td>\n",
       "      <td>None</td>\n",
       "      <td>C</td>\n",
       "      <td>NaN</td>\n",
       "      <td>NaN</td>\n",
       "    </tr>\n",
       "    <tr>\n",
       "      <th>Adefovir</th>\n",
       "      <td>2002.0</td>\n",
       "      <td>Undetermined</td>\n",
       "      <td>Very Limited</td>\n",
       "      <td>C</td>\n",
       "      <td>NaN</td>\n",
       "      <td>NaN</td>\n",
       "    </tr>\n",
       "    <tr>\n",
       "      <th>Alcaftadine</th>\n",
       "      <td>2010.0</td>\n",
       "      <td>Undetermined</td>\n",
       "      <td>None</td>\n",
       "      <td>B</td>\n",
       "      <td>NaN</td>\n",
       "      <td>NaN</td>\n",
       "    </tr>\n",
       "    <tr>\n",
       "      <th>Alfuzosin</th>\n",
       "      <td>2003.0</td>\n",
       "      <td>Undetermined</td>\n",
       "      <td>None</td>\n",
       "      <td>B</td>\n",
       "      <td>NaN</td>\n",
       "      <td>NaN</td>\n",
       "    </tr>\n",
       "  </tbody>\n",
       "</table>\n",
       "</div>"
      ],
      "text/plain": [
       "              Year of FDA approval TERIS risk rating Quality of Data  \\\n",
       "Drug                                                                   \n",
       "Abarelix                    2003.0      Undetermined            None   \n",
       "Acamprosate                 2004.0      Undetermined            None   \n",
       "Adefovir                    2002.0      Undetermined    Very Limited   \n",
       "Alcaftadine                 2010.0      Undetermined            None   \n",
       "Alfuzosin                   2003.0      Undetermined            None   \n",
       "\n",
       "             FDA Category  Unnamed: 5  Unnamed: 6  \n",
       "Drug                                               \n",
       "Abarelix                X         NaN         NaN  \n",
       "Acamprosate             C         NaN         NaN  \n",
       "Adefovir                C         NaN         NaN  \n",
       "Alcaftadine             B         NaN         NaN  \n",
       "Alfuzosin               B         NaN         NaN  "
      ]
     },
     "execution_count": 8,
     "metadata": {},
     "output_type": "execute_result"
    }
   ],
   "source": [
    "teratogen_df = pd.read_csv(\"../data/teratogen.tsv\", sep=\"\\t\", index_col = 0)\n",
    "teratogen_df.head()"
   ]
  },
  {
   "cell_type": "code",
   "execution_count": 9,
   "metadata": {},
   "outputs": [
    {
     "data": {
      "text/html": [
       "<div>\n",
       "<style scoped>\n",
       "    .dataframe tbody tr th:only-of-type {\n",
       "        vertical-align: middle;\n",
       "    }\n",
       "\n",
       "    .dataframe tbody tr th {\n",
       "        vertical-align: top;\n",
       "    }\n",
       "\n",
       "    .dataframe thead th {\n",
       "        text-align: right;\n",
       "    }\n",
       "</style>\n",
       "<table border=\"1\" class=\"dataframe\">\n",
       "  <thead>\n",
       "    <tr style=\"text-align: right;\">\n",
       "      <th></th>\n",
       "      <th>Year of FDA approval</th>\n",
       "      <th>TERIS risk rating</th>\n",
       "      <th>Quality of Data</th>\n",
       "      <th>FDA Category</th>\n",
       "      <th>Unnamed: 5</th>\n",
       "      <th>Unnamed: 6</th>\n",
       "    </tr>\n",
       "    <tr>\n",
       "      <th>Drug</th>\n",
       "      <th></th>\n",
       "      <th></th>\n",
       "      <th></th>\n",
       "      <th></th>\n",
       "      <th></th>\n",
       "      <th></th>\n",
       "    </tr>\n",
       "  </thead>\n",
       "  <tbody>\n",
       "    <tr>\n",
       "      <th>Abarelix</th>\n",
       "      <td>2003.0</td>\n",
       "      <td>Undetermined</td>\n",
       "      <td>None</td>\n",
       "      <td>X</td>\n",
       "      <td>NaN</td>\n",
       "      <td>NaN</td>\n",
       "    </tr>\n",
       "    <tr>\n",
       "      <th>Aliskiren</th>\n",
       "      <td>2007.0</td>\n",
       "      <td>Undetermined</td>\n",
       "      <td>None</td>\n",
       "      <td>D</td>\n",
       "      <td>NaN</td>\n",
       "      <td>NaN</td>\n",
       "    </tr>\n",
       "    <tr>\n",
       "      <th>Ambrisentan</th>\n",
       "      <td>2007.0</td>\n",
       "      <td>Undetermined</td>\n",
       "      <td>None</td>\n",
       "      <td>X</td>\n",
       "      <td>NaN</td>\n",
       "      <td>NaN</td>\n",
       "    </tr>\n",
       "    <tr>\n",
       "      <th>Azacitidine</th>\n",
       "      <td>2004.0</td>\n",
       "      <td>Undetermined*</td>\n",
       "      <td>Limited-Fair</td>\n",
       "      <td>D</td>\n",
       "      <td>NaN</td>\n",
       "      <td>NaN</td>\n",
       "    </tr>\n",
       "    <tr>\n",
       "      <th>Bendamustine</th>\n",
       "      <td>2008.0</td>\n",
       "      <td>Undetermined*</td>\n",
       "      <td>None</td>\n",
       "      <td>D</td>\n",
       "      <td>NaN</td>\n",
       "      <td>NaN</td>\n",
       "    </tr>\n",
       "  </tbody>\n",
       "</table>\n",
       "</div>"
      ],
      "text/plain": [
       "              Year of FDA approval TERIS risk rating Quality of Data  \\\n",
       "Drug                                                                   \n",
       "Abarelix                    2003.0      Undetermined            None   \n",
       "Aliskiren                   2007.0      Undetermined            None   \n",
       "Ambrisentan                 2007.0      Undetermined            None   \n",
       "Azacitidine                 2004.0     Undetermined*    Limited-Fair   \n",
       "Bendamustine                2008.0     Undetermined*            None   \n",
       "\n",
       "             FDA Category  Unnamed: 5  Unnamed: 6  \n",
       "Drug                                               \n",
       "Abarelix                X         NaN         NaN  \n",
       "Aliskiren               D         NaN         NaN  \n",
       "Ambrisentan             X         NaN         NaN  \n",
       "Azacitidine             D         NaN         NaN  \n",
       "Bendamustine            D         NaN         NaN  "
      ]
     },
     "execution_count": 9,
     "metadata": {},
     "output_type": "execute_result"
    }
   ],
   "source": [
    "teratogen_df = teratogen_df[(teratogen_df[\"FDA Category\"] == 'X') | (teratogen_df[\"FDA Category\"] == 'D')]\n",
    "teratogen_df.head()"
   ]
  },
  {
   "cell_type": "code",
   "execution_count": 10,
   "metadata": {},
   "outputs": [
    {
     "data": {
      "text/plain": [
       "41"
      ]
     },
     "execution_count": 10,
     "metadata": {},
     "output_type": "execute_result"
    }
   ],
   "source": [
    "tera_drugs = [i.lower().strip() for i in teratogen_df.index]\n",
    "len(tera_drugs)"
   ]
  },
  {
   "cell_type": "code",
   "execution_count": 11,
   "metadata": {},
   "outputs": [],
   "source": [
    "pmid = \"Friedman et. al. 2011\"\n",
    "drug_set = tera_drugs\n",
    "drug_sets[pmid] = drug_set"
   ]
  },
  {
   "cell_type": "code",
   "execution_count": 12,
   "metadata": {},
   "outputs": [
    {
     "data": {
      "text/html": [
       "<div>\n",
       "<style scoped>\n",
       "    .dataframe tbody tr th:only-of-type {\n",
       "        vertical-align: middle;\n",
       "    }\n",
       "\n",
       "    .dataframe tbody tr th {\n",
       "        vertical-align: top;\n",
       "    }\n",
       "\n",
       "    .dataframe thead th {\n",
       "        text-align: right;\n",
       "    }\n",
       "</style>\n",
       "<table border=\"1\" class=\"dataframe\">\n",
       "  <thead>\n",
       "    <tr style=\"text-align: right;\">\n",
       "      <th></th>\n",
       "      <th>label</th>\n",
       "      <th>raw_drug</th>\n",
       "      <th>drugbank</th>\n",
       "      <th>placenta</th>\n",
       "      <th>D_X</th>\n",
       "      <th>chembl</th>\n",
       "      <th>drugs.com</th>\n",
       "      <th>lincs_drug_meta</th>\n",
       "      <th>lincs_sm_meta</th>\n",
       "      <th>lincs_matrix</th>\n",
       "      <th>not_mapped</th>\n",
       "      <th>structure</th>\n",
       "    </tr>\n",
       "  </thead>\n",
       "  <tbody>\n",
       "    <tr>\n",
       "      <th>0</th>\n",
       "      <td>SBD D &amp; X</td>\n",
       "      <td>acetohydroxamic acid</td>\n",
       "      <td>Acetohydroxamic acid (DB00551)</td>\n",
       "      <td>CID:1990</td>\n",
       "      <td>acetohydroxamic acid</td>\n",
       "      <td>CHEMBL734</td>\n",
       "      <td>Acetohydroxamic acid</td>\n",
       "      <td>NaN</td>\n",
       "      <td>NaN</td>\n",
       "      <td>NaN</td>\n",
       "      <td>NaN</td>\n",
       "      <td>NaN</td>\n",
       "    </tr>\n",
       "    <tr>\n",
       "      <th>1</th>\n",
       "      <td>SBD D &amp; X</td>\n",
       "      <td>Acitretin</td>\n",
       "      <td>Acitretin (DB00459)</td>\n",
       "      <td>CID:5284513</td>\n",
       "      <td>acitretin</td>\n",
       "      <td>CHEMBL1131</td>\n",
       "      <td>Acitretin</td>\n",
       "      <td>brd-k62012036</td>\n",
       "      <td>brd-k62012036</td>\n",
       "      <td>acitretin</td>\n",
       "      <td>NaN</td>\n",
       "      <td>NaN</td>\n",
       "    </tr>\n",
       "    <tr>\n",
       "      <th>2</th>\n",
       "      <td>SBD D &amp; X</td>\n",
       "      <td>Alprazolam</td>\n",
       "      <td>Alprazolam (DB00404)</td>\n",
       "      <td>NaN</td>\n",
       "      <td>alprazolam</td>\n",
       "      <td>CHEMBL661</td>\n",
       "      <td>Alprazolam</td>\n",
       "      <td>brd-k32398298</td>\n",
       "      <td>brd-k32398298</td>\n",
       "      <td>alprazolam</td>\n",
       "      <td>NaN</td>\n",
       "      <td>NaN</td>\n",
       "    </tr>\n",
       "    <tr>\n",
       "      <th>3</th>\n",
       "      <td>SBD D &amp; X</td>\n",
       "      <td>Amikacin Sulfate</td>\n",
       "      <td>Amikacin (DB00479)</td>\n",
       "      <td>CID:37768</td>\n",
       "      <td>amikacin</td>\n",
       "      <td>CHEMBL4208954</td>\n",
       "      <td>Amikacin</td>\n",
       "      <td>brd-k88043978</td>\n",
       "      <td>brd-k88043978|brd-a30051119</td>\n",
       "      <td>amikacin</td>\n",
       "      <td>NaN</td>\n",
       "      <td>NaN</td>\n",
       "    </tr>\n",
       "    <tr>\n",
       "      <th>4</th>\n",
       "      <td>SBD D &amp; X</td>\n",
       "      <td>Amiodarone Hydrochloride</td>\n",
       "      <td>Amiodarone (DB01118)</td>\n",
       "      <td>CID:2157</td>\n",
       "      <td>amiodarone</td>\n",
       "      <td>CHEMBL633</td>\n",
       "      <td>Amiodarone</td>\n",
       "      <td>brd-k87555556</td>\n",
       "      <td>brd-k87555556</td>\n",
       "      <td>amiodarone</td>\n",
       "      <td>NaN</td>\n",
       "      <td>NaN</td>\n",
       "    </tr>\n",
       "  </tbody>\n",
       "</table>\n",
       "</div>"
      ],
      "text/plain": [
       "       label                  raw_drug                        drugbank  \\\n",
       "0  SBD D & X      acetohydroxamic acid  Acetohydroxamic acid (DB00551)   \n",
       "1  SBD D & X                 Acitretin             Acitretin (DB00459)   \n",
       "2  SBD D & X                Alprazolam            Alprazolam (DB00404)   \n",
       "3  SBD D & X          Amikacin Sulfate              Amikacin (DB00479)   \n",
       "4  SBD D & X  Amiodarone Hydrochloride            Amiodarone (DB01118)   \n",
       "\n",
       "      placenta                   D_X         chembl             drugs.com  \\\n",
       "0     CID:1990  acetohydroxamic acid      CHEMBL734  Acetohydroxamic acid   \n",
       "1  CID:5284513             acitretin     CHEMBL1131             Acitretin   \n",
       "2          NaN            alprazolam      CHEMBL661            Alprazolam   \n",
       "3    CID:37768              amikacin  CHEMBL4208954              Amikacin   \n",
       "4     CID:2157            amiodarone      CHEMBL633            Amiodarone   \n",
       "\n",
       "  lincs_drug_meta                lincs_sm_meta lincs_matrix not_mapped  \\\n",
       "0             NaN                          NaN          NaN        NaN   \n",
       "1   brd-k62012036                brd-k62012036    acitretin        NaN   \n",
       "2   brd-k32398298                brd-k32398298   alprazolam        NaN   \n",
       "3   brd-k88043978  brd-k88043978|brd-a30051119     amikacin        NaN   \n",
       "4   brd-k87555556                brd-k87555556   amiodarone        NaN   \n",
       "\n",
       "  structure  \n",
       "0       NaN  \n",
       "1       NaN  \n",
       "2       NaN  \n",
       "3       NaN  \n",
       "4       NaN  "
      ]
     },
     "execution_count": 12,
     "metadata": {},
     "output_type": "execute_result"
    }
   ],
   "source": [
    "mapped_drugs = pd.read_csv('../data/mappings.tsv', sep=\"\\t\", index_col=0)\n",
    "mapped_drugs.head()"
   ]
  },
  {
   "cell_type": "code",
   "execution_count": 13,
   "metadata": {},
   "outputs": [],
   "source": [
    "sets = {k: set(v['lincs_matrix']) for k,v in mapped_drugs[['label', 'lincs_matrix']].dropna().groupby('label') if k !='SBD D & X'}"
   ]
  },
  {
   "cell_type": "code",
   "execution_count": 14,
   "metadata": {},
   "outputs": [],
   "source": [
    "drug_sets['FDA Category X'] = sets['Drugs.com X'] | sets['DrugCentral X']\n",
    "# we consider X&D to be just X\n",
    "drug_sets['FDA Category D'] = (sets['Drugs.com D'] | sets['DrugCentral D']) - drug_sets['FDA Category X']\n"
   ]
  },
  {
   "cell_type": "code",
   "execution_count": 15,
   "metadata": {},
   "outputs": [],
   "source": [
    "import requests\n",
    "import time"
   ]
  },
  {
   "cell_type": "code",
   "execution_count": 16,
   "metadata": {},
   "outputs": [],
   "source": [
    "verified = {}\n"
   ]
  },
  {
   "cell_type": "code",
   "execution_count": 17,
   "metadata": {},
   "outputs": [],
   "source": [
    "\n",
    "def verify_drug(name):\n",
    "    if name not in verified:\n",
    "        res = requests.get(\"https://pubchem.ncbi.nlm.nih.gov/rest/pug/compound/name/%s/property/title/JSON\"%name)\n",
    "        time.sleep(0.1)\n",
    "        if not res.ok:\n",
    "            verified[name] = name\n",
    "        else:\n",
    "            verified[name] = res.json()[\"PropertyTable\"][\"Properties\"][0].get(\"Title\", name)\n",
    "    return verified[name]"
   ]
  },
  {
   "cell_type": "code",
   "execution_count": 18,
   "metadata": {},
   "outputs": [
    {
     "name": "stderr",
     "output_type": "stream",
     "text": [
      "100%|██████████| 1364/1364 [10:13<00:00,  2.22it/s]\n"
     ]
    },
    {
     "name": "stdout",
     "output_type": "stream",
     "text": [
      "DrugCentral 1364 1364\n"
     ]
    },
    {
     "name": "stderr",
     "output_type": "stream",
     "text": [
      "100%|██████████| 147/147 [00:30<00:00,  4.80it/s]\n"
     ]
    },
    {
     "name": "stdout",
     "output_type": "stream",
     "text": [
      "Schaefer et al. 2015 147 147\n"
     ]
    },
    {
     "name": "stderr",
     "output_type": "stream",
     "text": [
      "100%|██████████| 374/374 [01:43<00:00,  3.61it/s]\n"
     ]
    },
    {
     "name": "stdout",
     "output_type": "stream",
     "text": [
      "Drugshot 374 374\n"
     ]
    },
    {
     "name": "stderr",
     "output_type": "stream",
     "text": [
      "100%|██████████| 135/135 [00:23<00:00,  5.82it/s]\n"
     ]
    },
    {
     "name": "stdout",
     "output_type": "stream",
     "text": [
      "FAERS 135 135\n"
     ]
    },
    {
     "name": "stderr",
     "output_type": "stream",
     "text": [
      "100%|██████████| 141/141 [00:27<00:00,  5.21it/s]\n"
     ]
    },
    {
     "name": "stdout",
     "output_type": "stream",
     "text": [
      "National_Birth_Defects_Registry 141 140\n"
     ]
    },
    {
     "name": "stderr",
     "output_type": "stream",
     "text": [
      "100%|██████████| 27/27 [00:04<00:00,  5.76it/s]\n"
     ]
    },
    {
     "name": "stdout",
     "output_type": "stream",
     "text": [
      "De Santis et. al. 2004 27 26\n"
     ]
    },
    {
     "name": "stderr",
     "output_type": "stream",
     "text": [
      "100%|██████████| 1/1 [00:00<00:00, 13706.88it/s]\n"
     ]
    },
    {
     "name": "stdout",
     "output_type": "stream",
     "text": [
      "Dawson et. al. 2014 1 1\n"
     ]
    },
    {
     "name": "stderr",
     "output_type": "stream",
     "text": [
      "100%|██████████| 9/9 [00:00<00:00, 10.54it/s]\n"
     ]
    },
    {
     "name": "stdout",
     "output_type": "stream",
     "text": [
      "Schaefer 2011 9 9\n"
     ]
    },
    {
     "name": "stderr",
     "output_type": "stream",
     "text": [
      "100%|██████████| 1/1 [00:00<00:00, 35848.75it/s]\n"
     ]
    },
    {
     "name": "stdout",
     "output_type": "stream",
     "text": [
      "Tinker et. al. 2015 1 1\n"
     ]
    },
    {
     "name": "stderr",
     "output_type": "stream",
     "text": [
      "100%|██████████| 41/41 [00:03<00:00, 11.68it/s]\n"
     ]
    },
    {
     "name": "stdout",
     "output_type": "stream",
     "text": [
      "Friedman et. al. 2011 41 41\n"
     ]
    },
    {
     "name": "stderr",
     "output_type": "stream",
     "text": [
      "100%|██████████| 60/60 [00:09<00:00,  6.56it/s]\n"
     ]
    },
    {
     "name": "stdout",
     "output_type": "stream",
     "text": [
      "FDA Category X 60 60\n"
     ]
    },
    {
     "name": "stderr",
     "output_type": "stream",
     "text": [
      "100%|██████████| 112/112 [00:14<00:00,  7.90it/s]"
     ]
    },
    {
     "name": "stdout",
     "output_type": "stream",
     "text": [
      "FDA Category D 112 112\n"
     ]
    },
    {
     "name": "stderr",
     "output_type": "stream",
     "text": [
      "\n"
     ]
    }
   ],
   "source": [
    "mapped_drug_sets = {}\n",
    "for k,v in drug_sets.items():\n",
    "    mapped_drug_sets[k] = set()\n",
    "    for i in tqdm(v):\n",
    "         mapped_drug_sets[k].add(verify_drug(i))\n",
    "    print(k, len(v), len(mapped_drug_sets[k]))"
   ]
  },
  {
   "cell_type": "code",
   "execution_count": 19,
   "metadata": {},
   "outputs": [
    {
     "name": "stdout",
     "output_type": "stream",
     "text": [
      "DrugCentral 1364\n",
      "Schaefer et al. 2015 147\n",
      "Drugshot 374\n",
      "FAERS 135\n",
      "National_Birth_Defects_Registry 141\n",
      "De Santis et. al. 2004 27\n",
      "Dawson et. al. 2014 1\n",
      "Schaefer 2011 9\n",
      "Tinker et. al. 2015 1\n",
      "Friedman et. al. 2011 41\n",
      "FDA Category X 60\n",
      "FDA Category D 112\n"
     ]
    }
   ],
   "source": [
    "with open(\"output/resources.dmt\", 'w') as o:\n",
    "    for k,v in drug_sets.items():\n",
    "        print(k, len(v))\n",
    "        if len(v) > 1:\n",
    "            row = [k, ''] + list(v)\n",
    "            o.write(\"\\t\".join(row))\n",
    "            o.write(\"\\n\")\n"
   ]
  },
  {
   "cell_type": "code",
   "execution_count": 20,
   "metadata": {},
   "outputs": [],
   "source": [
    "for k,v in drug_sets.items():\n",
    "        with open(\"venn/%s.tsv\"%k, 'w') as o:\n",
    "                row = list(v)\n",
    "                o.write(\"\\n\".join(row))\n"
   ]
  },
  {
   "cell_type": "code",
   "execution_count": 21,
   "metadata": {},
   "outputs": [],
   "source": [
    "from supervenn import supervenn"
   ]
  },
  {
   "cell_type": "code",
   "execution_count": 27,
   "metadata": {},
   "outputs": [
    {
     "data": {
      "image/png": "[encoded data removed]",
      "text/plain": [
       "<Figure size 1152x576 with 5 Axes>"
      ]
     },
     "metadata": {
      "needs_background": "light"
     },
     "output_type": "display_data"
    }
   ],
   "source": [
    "sets = []\n",
    "labels = []\n",
    "for k, v in mapped_drug_sets.items():\n",
    "    if len(v) > 1 and not '20' in k:\n",
    "        sets.append(v)\n",
    "        labels.append(k)\n",
    "plt.figure(figsize=(16, 8))\n",
    "supervenn(sets, labels, sets_ordering= 'minimize gaps', widths_minmax_ratio=0.1 )\n",
    "plt.savefig(\"supervenn.png\", dpi=500)\n",
    "plt.savefig(\"supervenn.svg\", dpi=500)\n"
   ]
  },
  {
   "cell_type": "code",
   "execution_count": 20,
   "metadata": {},
   "outputs": [],
   "source": [
    "from upsetplot import from_contents, plot"
   ]
  },
  {
   "cell_type": "code",
   "execution_count": 21,
   "metadata": {},
   "outputs": [
    {
     "data": {
      "text/plain": [
       "{'matrix': <AxesSubplot: >,\n",
       " 'shading': <AxesSubplot: >,\n",
       " 'totals': <AxesSubplot: >,\n",
       " 'intersections': <AxesSubplot: ylabel='Intersection size'>}"
      ]
     },
     "execution_count": 21,
     "metadata": {},
     "output_type": "execute_result"
    },
    {
     "data": {
      "image/png": "[encoded data removed]",
      "text/plain": [
       "<Figure size 1248x384 with 4 Axes>"
      ]
     },
     "metadata": {
      "needs_background": "light"
     },
     "output_type": "display_data"
    }
   ],
   "source": [
    "orient = \"Horizontal\"\n",
    "color = \"Black\"\n",
    "counts = True\n",
    "percent = False\n",
    "df = from_contents(drug_sets)\n",
    "plot(df, orientation = orient.lower(), facecolor = color, show_counts = counts, show_percentages = percent)\n",
    "    "
   ]
  },
  {
   "cell_type": "code",
   "execution_count": 26,
   "metadata": {},
   "outputs": [],
   "source": [
    "a = {k: \", \".join(list(v)) for k,v in mapped_drug_sets.items() if len(v)>1}"
   ]
  },
  {
   "cell_type": "code",
   "execution_count": 27,
   "metadata": {},
   "outputs": [
    {
     "data": {
      "text/html": [
       "<div>\n",
       "<style scoped>\n",
       "    .dataframe tbody tr th:only-of-type {\n",
       "        vertical-align: middle;\n",
       "    }\n",
       "\n",
       "    .dataframe tbody tr th {\n",
       "        vertical-align: top;\n",
       "    }\n",
       "\n",
       "    .dataframe thead th {\n",
       "        text-align: right;\n",
       "    }\n",
       "</style>\n",
       "<table border=\"1\" class=\"dataframe\">\n",
       "  <thead>\n",
       "    <tr style=\"text-align: right;\">\n",
       "      <th></th>\n",
       "      <th>Drugs</th>\n",
       "    </tr>\n",
       "    <tr>\n",
       "      <th>Resource</th>\n",
       "      <th></th>\n",
       "    </tr>\n",
       "  </thead>\n",
       "  <tbody>\n",
       "    <tr>\n",
       "      <th>DrugCentral</th>\n",
       "      <td>Gilteritinib, Isoetharine, Metopimazine, Pipot...</td>\n",
       "    </tr>\n",
       "    <tr>\n",
       "      <th>Schaefer et al. 2015</th>\n",
       "      <td>Meperidine, Prilocaine, adalimunab, Cyclophosp...</td>\n",
       "    </tr>\n",
       "    <tr>\n",
       "      <th>Drugshot</th>\n",
       "      <td>Levamisole, Succinylcholine, Camptothecin, Phe...</td>\n",
       "    </tr>\n",
       "    <tr>\n",
       "      <th>FAERS</th>\n",
       "      <td>Amlodipine, Propafenone, Prednisone, Oxybutyni...</td>\n",
       "    </tr>\n",
       "    <tr>\n",
       "      <th>National_Birth_Defects_Registry</th>\n",
       "      <td>Ammonium alginate, Meperidine, Nystatin, Diphe...</td>\n",
       "    </tr>\n",
       "    <tr>\n",
       "      <th>De Santis et. al. 2004</th>\n",
       "      <td>Kanamycin, aminoptherine, Cyclophosphamide, Ba...</td>\n",
       "    </tr>\n",
       "    <tr>\n",
       "      <th>Schaefer, 2011</th>\n",
       "      <td>Ethyl4-ethoxy-6-methylnicotinate, Acenocoumaro...</td>\n",
       "    </tr>\n",
       "    <tr>\n",
       "      <th>Friedman et. al. 2011</th>\n",
       "      <td>Zoledronic acid, Dasatinib, Everolimus, Pitava...</td>\n",
       "    </tr>\n",
       "    <tr>\n",
       "      <th>FDA Category X</th>\n",
       "      <td>Bazedoxifene, Tazarotene, Levonorgestrel, Meth...</td>\n",
       "    </tr>\n",
       "    <tr>\n",
       "      <th>FDA Category D</th>\n",
       "      <td>Topotecan, Docetaxel, Cyclophosphamide, Amlodi...</td>\n",
       "    </tr>\n",
       "  </tbody>\n",
       "</table>\n",
       "</div>"
      ],
      "text/plain": [
       "                                                                             Drugs\n",
       "Resource                                                                          \n",
       "DrugCentral                      Gilteritinib, Isoetharine, Metopimazine, Pipot...\n",
       "Schaefer et al. 2015             Meperidine, Prilocaine, adalimunab, Cyclophosp...\n",
       "Drugshot                         Levamisole, Succinylcholine, Camptothecin, Phe...\n",
       "FAERS                            Amlodipine, Propafenone, Prednisone, Oxybutyni...\n",
       "National_Birth_Defects_Registry  Ammonium alginate, Meperidine, Nystatin, Diphe...\n",
       "De Santis et. al. 2004           Kanamycin, aminoptherine, Cyclophosphamide, Ba...\n",
       "Schaefer, 2011                   Ethyl4-ethoxy-6-methylnicotinate, Acenocoumaro...\n",
       "Friedman et. al. 2011            Zoledronic acid, Dasatinib, Everolimus, Pitava...\n",
       "FDA Category X                   Bazedoxifene, Tazarotene, Levonorgestrel, Meth...\n",
       "FDA Category D                   Topotecan, Docetaxel, Cyclophosphamide, Amlodi..."
      ]
     },
     "execution_count": 27,
     "metadata": {},
     "output_type": "execute_result"
    }
   ],
   "source": [
    "df = pd.DataFrame.from_dict(a, orient='index', columns=[\"Drugs\"])\n",
    "df.index.name = \"Resource\"\n",
    "df"
   ]
  },
  {
   "cell_type": "code",
   "execution_count": 28,
   "metadata": {},
   "outputs": [],
   "source": [
    "df.to_csv(\"drug_resources.tsv\", sep=\"\\t\")"
   ]
  },
  {
   "cell_type": "code",
   "execution_count": 29,
   "metadata": {},
   "outputs": [
    {
     "data": {
      "text/plain": [
       "dict_keys(['DrugCentral', 'Schaefer et al. 2015', 'Drugshot', 'FAERS', 'National_Birth_Defects_Registry', 'De Santis et. al. 2004', 'Dawson et. al. 2014', 'Schaefer, 2011', 'Tinker et. al. 2015', 'Friedman et. al. 2011', 'FDA Category X', 'FDA Category D'])"
      ]
     },
     "execution_count": 29,
     "metadata": {},
     "output_type": "execute_result"
    }
   ],
   "source": [
    "mapped_drug_sets.keys()"
   ]
  },
  {
   "cell_type": "code",
   "execution_count": null,
   "metadata": {},
   "outputs": [],
   "source": []
  }
 ],
 "metadata": {
  "kernelspec": {
   "display_name": "venv",
   "language": "python",
   "name": "python3"
  },
  "language_info": {
   "codemirror_mode": {
    "name": "ipython",
    "version": 3
   },
   "file_extension": ".py",
   "mimetype": "text/x-python",
   "name": "python",
   "nbconvert_exporter": "python",
   "pygments_lexer": "ipython3",
   "version": "3.9.16"
  },
  "orig_nbformat": 4,
  "vscode": {
   "interpreter": {
    "hash": "43fa70dbc3e0e900c09e1e9e147b0eb772ee319912638d9a00663e86ab5de451"
   }
  }
 },
 "nbformat": 4,
 "nbformat_minor": 2
}
