{
 "cells": [
  {
   "cell_type": "code",
   "execution_count": 6,
   "metadata": {},
   "outputs": [],
   "source": [
    "import pandas as pd\n",
    "import requests\n",
    "from venn import venn"
   ]
  },
  {
   "cell_type": "code",
   "execution_count": 2,
   "metadata": {},
   "outputs": [],
   "source": [
    "datasets = [\n",
    "    \"https://s3.amazonaws.com/maayan-kg/reprotox/reprotox_serialization.valid.json\",\n",
    "    \"https://s3.amazonaws.com/maayan-kg/reprotox/sigcom_lincs_serialization.valid.json\",\n",
    "    \"https://s3.amazonaws.com/maayan-kg/reprotox/sigcom_lincs_drug_similarity.valid.json\",\n",
    "    \"https://s3.amazonaws.com/maayan-kg/reprotox/drugsto_faers_male.valid.json\",\n",
    "    \"https://s3.amazonaws.com/maayan-kg/reprotox/drugsto_faers_female.valid.json\",\n",
    "    \"https://s3.amazonaws.com/maayan-kg/reprotox/hpo.valid.json\",\n",
    "    \"https://s3.amazonaws.com/maayan-kg/reprotox/archs4_coexpression.valid.json\",\n",
    "    \"https://s3.amazonaws.com/maayan-kg/reprotox/Drugshot_HPO_to_Drug.valid.json\",\n",
    "    \"https://s3.amazonaws.com/maayan-kg/reprotox/Geneshot_HPO_to_Gene.valid.json\",\n",
    "    \"https://s3.amazonaws.com/maayan-kg/reprotox/idg_drug_targets.valid.json\",\n",
    "]"
   ]
  },
  {
   "cell_type": "code",
   "execution_count": 3,
   "metadata": {},
   "outputs": [
    {
     "name": "stdout",
     "output_type": "stream",
     "text": [
      "reprotox_serialization.json\n",
      "sigcom_lincs_serialization.json\n",
      "sigcom_lincs_drug_similarity.json\n",
      "drugsto_faers_male.json\n",
      "drugsto_faers_female.json\n",
      "hpo.json\n",
      "archs4_coexpression.json\n",
      "Drugshot_HPO_to_Drug.json\n",
      "Geneshot_HPO_to_Gene.json\n",
      "idg_drug_targets.json\n"
     ]
    }
   ],
   "source": [
    "drugs = {}\n",
    "for i in datasets:\n",
    "    print(i.split(\"/\")[-1].replace(\".valid.json\", \".json\"))\n",
    "    res = requests.get(i)\n",
    "    serialized = res.json()\n",
    "    for n in serialized[\"nodes\"].values():\n",
    "        if n[\"type\"] == \"Drug\":\n",
    "            drugs[n[\"properties\"][\"id\"]] = n"
   ]
  },
  {
   "cell_type": "code",
   "execution_count": 4,
   "metadata": {},
   "outputs": [
    {
     "data": {
      "text/plain": [
       "5320"
      ]
     },
     "execution_count": 4,
     "metadata": {},
     "output_type": "execute_result"
    }
   ],
   "source": [
    "len(drugs)"
   ]
  },
  {
   "cell_type": "code",
   "execution_count": 11,
   "metadata": {},
   "outputs": [
    {
     "data": {
      "text/html": [
       "<div>\n",
       "<style scoped>\n",
       "    .dataframe tbody tr th:only-of-type {\n",
       "        vertical-align: middle;\n",
       "    }\n",
       "\n",
       "    .dataframe tbody tr th {\n",
       "        vertical-align: top;\n",
       "    }\n",
       "\n",
       "    .dataframe thead th {\n",
       "        text-align: right;\n",
       "    }\n",
       "</style>\n",
       "<table border=\"1\" class=\"dataframe\">\n",
       "  <thead>\n",
       "    <tr style=\"text-align: right;\">\n",
       "      <th></th>\n",
       "      <th>Year of FDA approval</th>\n",
       "      <th>TERIS risk rating</th>\n",
       "      <th>Quality of Data</th>\n",
       "      <th>FDA Category</th>\n",
       "      <th>Unnamed: 5</th>\n",
       "      <th>Unnamed: 6</th>\n",
       "    </tr>\n",
       "    <tr>\n",
       "      <th>Drug</th>\n",
       "      <th></th>\n",
       "      <th></th>\n",
       "      <th></th>\n",
       "      <th></th>\n",
       "      <th></th>\n",
       "      <th></th>\n",
       "    </tr>\n",
       "  </thead>\n",
       "  <tbody>\n",
       "    <tr>\n",
       "      <th>Abarelix</th>\n",
       "      <td>2003.0</td>\n",
       "      <td>Undetermined</td>\n",
       "      <td>None</td>\n",
       "      <td>X</td>\n",
       "      <td>NaN</td>\n",
       "      <td>NaN</td>\n",
       "    </tr>\n",
       "    <tr>\n",
       "      <th>Acamprosate</th>\n",
       "      <td>2004.0</td>\n",
       "      <td>Undetermined</td>\n",
       "      <td>None</td>\n",
       "      <td>C</td>\n",
       "      <td>NaN</td>\n",
       "      <td>NaN</td>\n",
       "    </tr>\n",
       "    <tr>\n",
       "      <th>Adefovir</th>\n",
       "      <td>2002.0</td>\n",
       "      <td>Undetermined</td>\n",
       "      <td>Very Limited</td>\n",
       "      <td>C</td>\n",
       "      <td>NaN</td>\n",
       "      <td>NaN</td>\n",
       "    </tr>\n",
       "    <tr>\n",
       "      <th>Alcaftadine</th>\n",
       "      <td>2010.0</td>\n",
       "      <td>Undetermined</td>\n",
       "      <td>None</td>\n",
       "      <td>B</td>\n",
       "      <td>NaN</td>\n",
       "      <td>NaN</td>\n",
       "    </tr>\n",
       "    <tr>\n",
       "      <th>Alfuzosin</th>\n",
       "      <td>2003.0</td>\n",
       "      <td>Undetermined</td>\n",
       "      <td>None</td>\n",
       "      <td>B</td>\n",
       "      <td>NaN</td>\n",
       "      <td>NaN</td>\n",
       "    </tr>\n",
       "  </tbody>\n",
       "</table>\n",
       "</div>"
      ],
      "text/plain": [
       "              Year of FDA approval TERIS risk rating Quality of Data  \\\n",
       "Drug                                                                   \n",
       "Abarelix                    2003.0      Undetermined            None   \n",
       "Acamprosate                 2004.0      Undetermined            None   \n",
       "Adefovir                    2002.0      Undetermined    Very Limited   \n",
       "Alcaftadine                 2010.0      Undetermined            None   \n",
       "Alfuzosin                   2003.0      Undetermined            None   \n",
       "\n",
       "             FDA Category  Unnamed: 5  Unnamed: 6  \n",
       "Drug                                               \n",
       "Abarelix                X         NaN         NaN  \n",
       "Acamprosate             C         NaN         NaN  \n",
       "Adefovir                C         NaN         NaN  \n",
       "Alcaftadine             B         NaN         NaN  \n",
       "Alfuzosin               B         NaN         NaN  "
      ]
     },
     "execution_count": 11,
     "metadata": {},
     "output_type": "execute_result"
    }
   ],
   "source": [
    "teratogen_df = pd.read_csv(\"data/teratogen.tsv\", sep=\"\\t\", index_col = 0)\n",
    "teratogen_df.head()"
   ]
  },
  {
   "cell_type": "code",
   "execution_count": 12,
   "metadata": {},
   "outputs": [
    {
     "data": {
      "text/html": [
       "<div>\n",
       "<style scoped>\n",
       "    .dataframe tbody tr th:only-of-type {\n",
       "        vertical-align: middle;\n",
       "    }\n",
       "\n",
       "    .dataframe tbody tr th {\n",
       "        vertical-align: top;\n",
       "    }\n",
       "\n",
       "    .dataframe thead th {\n",
       "        text-align: right;\n",
       "    }\n",
       "</style>\n",
       "<table border=\"1\" class=\"dataframe\">\n",
       "  <thead>\n",
       "    <tr style=\"text-align: right;\">\n",
       "      <th></th>\n",
       "      <th>Year of FDA approval</th>\n",
       "      <th>TERIS risk rating</th>\n",
       "      <th>Quality of Data</th>\n",
       "      <th>FDA Category</th>\n",
       "      <th>Unnamed: 5</th>\n",
       "      <th>Unnamed: 6</th>\n",
       "    </tr>\n",
       "    <tr>\n",
       "      <th>Drug</th>\n",
       "      <th></th>\n",
       "      <th></th>\n",
       "      <th></th>\n",
       "      <th></th>\n",
       "      <th></th>\n",
       "      <th></th>\n",
       "    </tr>\n",
       "  </thead>\n",
       "  <tbody>\n",
       "    <tr>\n",
       "      <th>Abarelix</th>\n",
       "      <td>2003.0</td>\n",
       "      <td>Undetermined</td>\n",
       "      <td>None</td>\n",
       "      <td>X</td>\n",
       "      <td>NaN</td>\n",
       "      <td>NaN</td>\n",
       "    </tr>\n",
       "    <tr>\n",
       "      <th>Aliskiren</th>\n",
       "      <td>2007.0</td>\n",
       "      <td>Undetermined</td>\n",
       "      <td>None</td>\n",
       "      <td>D</td>\n",
       "      <td>NaN</td>\n",
       "      <td>NaN</td>\n",
       "    </tr>\n",
       "    <tr>\n",
       "      <th>Ambrisentan</th>\n",
       "      <td>2007.0</td>\n",
       "      <td>Undetermined</td>\n",
       "      <td>None</td>\n",
       "      <td>X</td>\n",
       "      <td>NaN</td>\n",
       "      <td>NaN</td>\n",
       "    </tr>\n",
       "    <tr>\n",
       "      <th>Azacitidine</th>\n",
       "      <td>2004.0</td>\n",
       "      <td>Undetermined*</td>\n",
       "      <td>Limited-Fair</td>\n",
       "      <td>D</td>\n",
       "      <td>NaN</td>\n",
       "      <td>NaN</td>\n",
       "    </tr>\n",
       "    <tr>\n",
       "      <th>Bendamustine</th>\n",
       "      <td>2008.0</td>\n",
       "      <td>Undetermined*</td>\n",
       "      <td>None</td>\n",
       "      <td>D</td>\n",
       "      <td>NaN</td>\n",
       "      <td>NaN</td>\n",
       "    </tr>\n",
       "  </tbody>\n",
       "</table>\n",
       "</div>"
      ],
      "text/plain": [
       "              Year of FDA approval TERIS risk rating Quality of Data  \\\n",
       "Drug                                                                   \n",
       "Abarelix                    2003.0      Undetermined            None   \n",
       "Aliskiren                   2007.0      Undetermined            None   \n",
       "Ambrisentan                 2007.0      Undetermined            None   \n",
       "Azacitidine                 2004.0     Undetermined*    Limited-Fair   \n",
       "Bendamustine                2008.0     Undetermined*            None   \n",
       "\n",
       "             FDA Category  Unnamed: 5  Unnamed: 6  \n",
       "Drug                                               \n",
       "Abarelix                X         NaN         NaN  \n",
       "Aliskiren               D         NaN         NaN  \n",
       "Ambrisentan             X         NaN         NaN  \n",
       "Azacitidine             D         NaN         NaN  \n",
       "Bendamustine            D         NaN         NaN  "
      ]
     },
     "execution_count": 12,
     "metadata": {},
     "output_type": "execute_result"
    }
   ],
   "source": [
    "teratogen_df = teratogen_df[(teratogen_df[\"FDA Category\"] == 'X') | (teratogen_df[\"FDA Category\"] == 'D')]\n",
    "teratogen_df.head()"
   ]
  },
  {
   "cell_type": "code",
   "execution_count": 21,
   "metadata": {},
   "outputs": [
    {
     "data": {
      "text/plain": [
       "41"
      ]
     },
     "execution_count": 21,
     "metadata": {},
     "output_type": "execute_result"
    }
   ],
   "source": [
    "tera_drugs = [i.lower().strip() for i in teratogen_df.index]\n",
    "len(tera_drugs)"
   ]
  },
  {
   "cell_type": "code",
   "execution_count": 22,
   "metadata": {},
   "outputs": [
    {
     "data": {
      "text/plain": [
       "5320"
      ]
     },
     "execution_count": 22,
     "metadata": {},
     "output_type": "execute_result"
    }
   ],
   "source": [
    "repro_drugs = [i[\"properties\"][\"label\"].strip().lower() for i in drugs.values()]\n",
    "len(repro_drugs)"
   ]
  },
  {
   "cell_type": "code",
   "execution_count": 23,
   "metadata": {},
   "outputs": [
    {
     "data": {
      "text/plain": [
       "<AxesSubplot: >"
      ]
     },
     "execution_count": 23,
     "metadata": {},
     "output_type": "execute_result"
    },
    {
     "data": {
      "image/png": "[encoded data removed]",
      "text/plain": [
       "<Figure size 576x576 with 1 Axes>"
      ]
     },
     "metadata": {},
     "output_type": "display_data"
    }
   ],
   "source": [
    "all_drugs = {\n",
    "    \"Adam et. al.\": set(tera_drugs),\n",
    "    \"Reprotox Drugs\": set(repro_drugs)\n",
    "}\n",
    "\n",
    "venn(all_drugs)"
   ]
  },
  {
   "cell_type": "code",
   "execution_count": 20,
   "metadata": {},
   "outputs": [
    {
     "data": {
      "text/plain": [
       "{'biskalcitrate', 'lenalidomide ', 'oxaliplatin', 'tesamorelin', 'ulipristal '}"
      ]
     },
     "execution_count": 20,
     "metadata": {},
     "output_type": "execute_result"
    }
   ],
   "source": [
    "set(tera_drugs) - set(repro_drugs)"
   ]
  },
  {
   "cell_type": "code",
   "execution_count": 29,
   "metadata": {},
   "outputs": [],
   "source": [
    "drug_names = {}\n",
    "drug_properties = {}\n",
    "for k,v in drugs.items():\n",
    "    label = v[\"properties\"][\"label\"].lower()\n",
    "    cid = v[\"properties\"][\"id\"]\n",
    "    if label in drug_properties:\n",
    "        if \"SMILES\" not in drug_properties[label][\"properties\"] and 'SMILES' in v[\"properties\"]:\n",
    "            drug_properties[label] = v\n",
    "    else:\n",
    "        drug_properties[label] = v"
   ]
  },
  {
   "cell_type": "code",
   "execution_count": 30,
   "metadata": {},
   "outputs": [
    {
     "data": {
      "text/plain": [
       "5107"
      ]
     },
     "execution_count": 30,
     "metadata": {},
     "output_type": "execute_result"
    }
   ],
   "source": [
    "len(drug_properties)"
   ]
  },
  {
   "cell_type": "code",
   "execution_count": null,
   "metadata": {},
   "outputs": [],
   "source": []
  }
 ],
 "metadata": {
  "kernelspec": {
   "display_name": "Python 3.9.13 ('venv': venv)",
   "language": "python",
   "name": "python3"
  },
  "language_info": {
   "codemirror_mode": {
    "name": "ipython",
    "version": 3
   },
   "file_extension": ".py",
   "mimetype": "text/x-python",
   "name": "python",
   "nbconvert_exporter": "python",
   "pygments_lexer": "ipython3",
   "version": "3.9.13"
  },
  "orig_nbformat": 4,
  "vscode": {
   "interpreter": {
    "hash": "43fa70dbc3e0e900c09e1e9e147b0eb772ee319912638d9a00663e86ab5de451"
   }
  }
 },
 "nbformat": 4,
 "nbformat_minor": 2
}
