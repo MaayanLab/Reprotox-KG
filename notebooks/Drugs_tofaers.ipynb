{
 "cells": [
  {
   "cell_type": "code",
   "execution_count": 1,
   "metadata": {},
   "outputs": [],
   "source": [
    "import pandas as pd\n",
    "import json\n",
    "import requests\n",
    "import time\n",
    "import tqdm"
   ]
  },
  {
   "cell_type": "code",
   "execution_count": 2,
   "metadata": {},
   "outputs": [],
   "source": [
    "input_file = \"data/drugsto_faers_male.csv\""
   ]
  },
  {
   "cell_type": "code",
   "execution_count": 3,
   "metadata": {},
   "outputs": [],
   "source": [
    "with open(\"data/drug_ids.json\") as o:\n",
    "    drug_ids = json.loads(o.read())\n",
    "\n",
    "\n",
    "with open(\"data/birth_defect_ids.json\") as o:\n",
    "   birth_defect_ids = json.loads(o.read())"
   ]
  },
  {
   "cell_type": "code",
   "execution_count": 4,
   "metadata": {},
   "outputs": [
    {
     "data": {
      "text/html": [
       "<div>\n",
       "<style scoped>\n",
       "    .dataframe tbody tr th:only-of-type {\n",
       "        vertical-align: middle;\n",
       "    }\n",
       "\n",
       "    .dataframe tbody tr th {\n",
       "        vertical-align: top;\n",
       "    }\n",
       "\n",
       "    .dataframe thead th {\n",
       "        text-align: right;\n",
       "    }\n",
       "</style>\n",
       "<table border=\"1\" class=\"dataframe\">\n",
       "  <thead>\n",
       "    <tr style=\"text-align: right;\">\n",
       "      <th></th>\n",
       "      <th>name</th>\n",
       "      <th>smiles</th>\n",
       "      <th>struct_id</th>\n",
       "      <th>meddra_name</th>\n",
       "      <th>meddra_code</th>\n",
       "      <th>level</th>\n",
       "      <th>llr_ratio</th>\n",
       "    </tr>\n",
       "    <tr>\n",
       "      <th>id</th>\n",
       "      <th></th>\n",
       "      <th></th>\n",
       "      <th></th>\n",
       "      <th></th>\n",
       "      <th></th>\n",
       "      <th></th>\n",
       "      <th></th>\n",
       "    </tr>\n",
       "  </thead>\n",
       "  <tbody>\n",
       "    <tr>\n",
       "      <th>2808625</th>\n",
       "      <td>paroxetine</td>\n",
       "      <td>FC1=CC=C(C=C1)[C@@H]1CCNC[C@H]1COC1=CC2=C(OCO2...</td>\n",
       "      <td>2068</td>\n",
       "      <td>Atrial septal defect</td>\n",
       "      <td>10003664</td>\n",
       "      <td>PT</td>\n",
       "      <td>76.772102</td>\n",
       "    </tr>\n",
       "    <tr>\n",
       "      <th>3475252</th>\n",
       "      <td>paroxetine</td>\n",
       "      <td>FC1=CC=C(C=C1)[C@@H]1CCNC[C@H]1COC1=CC2=C(OCO2...</td>\n",
       "      <td>2068</td>\n",
       "      <td>Ventricular septal defect</td>\n",
       "      <td>10047298</td>\n",
       "      <td>PT</td>\n",
       "      <td>53.619698</td>\n",
       "    </tr>\n",
       "    <tr>\n",
       "      <th>3289318</th>\n",
       "      <td>paroxetine</td>\n",
       "      <td>FC1=CC=C(C=C1)[C@@H]1CCNC[C@H]1COC1=CC2=C(OCO2...</td>\n",
       "      <td>2068</td>\n",
       "      <td>Patent ductus arteriosus</td>\n",
       "      <td>10034130</td>\n",
       "      <td>PT</td>\n",
       "      <td>43.883318</td>\n",
       "    </tr>\n",
       "    <tr>\n",
       "      <th>2808640</th>\n",
       "      <td>folic acid</td>\n",
       "      <td>NC1=NC(=O)C2=NC(CNC3=CC=C(C=C3)C(=O)N[C@@H](CC...</td>\n",
       "      <td>1231</td>\n",
       "      <td>Atrial septal defect</td>\n",
       "      <td>10003664</td>\n",
       "      <td>PT</td>\n",
       "      <td>23.922752</td>\n",
       "    </tr>\n",
       "    <tr>\n",
       "      <th>3340913</th>\n",
       "      <td>paroxetine</td>\n",
       "      <td>FC1=CC=C(C=C1)[C@@H]1CCNC[C@H]1COC1=CC2=C(OCO2...</td>\n",
       "      <td>2068</td>\n",
       "      <td>Pulmonary valve stenosis</td>\n",
       "      <td>10037450</td>\n",
       "      <td>PT</td>\n",
       "      <td>21.589727</td>\n",
       "    </tr>\n",
       "  </tbody>\n",
       "</table>\n",
       "</div>"
      ],
      "text/plain": [
       "               name                                             smiles  \\\n",
       "id                                                                       \n",
       "2808625  paroxetine  FC1=CC=C(C=C1)[C@@H]1CCNC[C@H]1COC1=CC2=C(OCO2...   \n",
       "3475252  paroxetine  FC1=CC=C(C=C1)[C@@H]1CCNC[C@H]1COC1=CC2=C(OCO2...   \n",
       "3289318  paroxetine  FC1=CC=C(C=C1)[C@@H]1CCNC[C@H]1COC1=CC2=C(OCO2...   \n",
       "2808640  folic acid  NC1=NC(=O)C2=NC(CNC3=CC=C(C=C3)C(=O)N[C@@H](CC...   \n",
       "3340913  paroxetine  FC1=CC=C(C=C1)[C@@H]1CCNC[C@H]1COC1=CC2=C(OCO2...   \n",
       "\n",
       "         struct_id                meddra_name  meddra_code level  llr_ratio  \n",
       "id                                                                           \n",
       "2808625       2068       Atrial septal defect     10003664    PT  76.772102  \n",
       "3475252       2068  Ventricular septal defect     10047298    PT  53.619698  \n",
       "3289318       2068   Patent ductus arteriosus     10034130    PT  43.883318  \n",
       "2808640       1231       Atrial septal defect     10003664    PT  23.922752  \n",
       "3340913       2068   Pulmonary valve stenosis     10037450    PT  21.589727  "
      ]
     },
     "execution_count": 4,
     "metadata": {},
     "output_type": "execute_result"
    }
   ],
   "source": [
    "df = pd.read_csv(input_file, sep=\"\\t\", index_col=2)\n",
    "df.head()"
   ]
  },
  {
   "cell_type": "code",
   "execution_count": 5,
   "metadata": {},
   "outputs": [],
   "source": [
    "def get_hpo(term):\n",
    "    if term in birth_defect_ids:\n",
    "        return birth_defect_ids[term]\n",
    "    res = requests.get(\"https://www.ebi.ac.uk/ols/api/select?q=%s&ontology=hp\"%term)\n",
    "    if res.ok:\n",
    "        result = res.json()\n",
    "        if result[\"response\"][\"numFound\"] > 0:\n",
    "            return result[\"response\"][\"docs\"][0][\"obo_id\"]"
   ]
  },
  {
   "cell_type": "code",
   "execution_count": 6,
   "metadata": {},
   "outputs": [
    {
     "name": "stderr",
     "output_type": "stream",
     "text": [
      "100%|██████████| 179/179 [00:27<00:00,  6.46it/s]\n"
     ]
    }
   ],
   "source": [
    "disease_names = {}\n",
    "for i in tqdm.tqdm(df.index):\n",
    "    disease = df.at[i, 'meddra_name']\n",
    "    if disease not in disease_names:\n",
    "        obo_id = get_hpo(disease)\n",
    "        time.sleep(0.2)\n",
    "        if obo_id:\n",
    "            disease_names[disease] = obo_id\n",
    "        else:\n",
    "            disease_id = df.at[i, 'meddra_code']\n",
    "            disease_names[disease] = \"meddra_%s\"%disease_id"
   ]
  },
  {
   "cell_type": "code",
   "execution_count": 7,
   "metadata": {},
   "outputs": [],
   "source": [
    "def get_cid(term):\n",
    "    if term in drug_ids:\n",
    "        return drug_ids[term]\n",
    "    res = requests.get(\"https://pubchem.ncbi.nlm.nih.gov/rest/pug/compound/name/%s/JSON?list_return=flat\"%term)\n",
    "    if res.ok:\n",
    "        result = res.json()\n",
    "        if len(result[\"PC_Compounds\"]):\n",
    "            return \"CID:%s\"%result[\"PC_Compounds\"][0][\"id\"][\"id\"][\"cid\"]"
   ]
  },
  {
   "cell_type": "code",
   "execution_count": 8,
   "metadata": {},
   "outputs": [
    {
     "name": "stderr",
     "output_type": "stream",
     "text": [
      "100%|██████████| 179/179 [00:22<00:00,  7.93it/s]\n"
     ]
    }
   ],
   "source": [
    "drug_names = {}\n",
    "for i in tqdm.tqdm(df.index):\n",
    "    drug = df.at[i, 'name']\n",
    "    if drug not in drug_names:\n",
    "        cid = get_cid(drug)\n",
    "        time.sleep(0.2)\n",
    "        if cid:\n",
    "            drug_names[drug] = cid\n",
    "        else:\n",
    "            drug_id = df.at[i, 'struct_id']\n",
    "            drug_names[drug] = \"DC_%s\"%drug_id"
   ]
  },
  {
   "cell_type": "code",
   "execution_count": 9,
   "metadata": {},
   "outputs": [],
   "source": [
    "nodes = {}\n",
    "edges = []\n",
    "sex = \"male\"\n",
    "for i in df.index:\n",
    "    drug_name = df.at[i, \"name\"]\n",
    "    drug_id = str(drug_names[drug_name])\n",
    "    drug_smiles = df.at[i, \"smiles\"]\n",
    "    drugcentral_id = str(df.at[i, \"struct_id\"])\n",
    "    \n",
    "    if drug_id not in nodes:\n",
    "        nodes[drug_id] = {\n",
    "            \"type\": \"Drug\",\n",
    "            \"properties\": {\n",
    "                \"id\": drug_id,\n",
    "                \"label\": drug_name,\n",
    "                \"drugcentral_id\": drugcentral_id,\n",
    "                \"smiles\": drug_smiles,\n",
    "                \"uri\": \"https://pubchem.ncbi.nlm.nih.gov/compound/%s\"%str(drug_id)\n",
    "            }\n",
    "        }\n",
    "    \n",
    "    disease_name = df.at[i, \"meddra_name\"]\n",
    "    disease_id = str(disease_names[disease_name])\n",
    "    meddra_code = str(df.at[i, \"meddra_code\"])\n",
    "\n",
    "    if disease_id not in nodes:\n",
    "        nodes[disease_id] = {\n",
    "            \"type\": \"BirthDefect\",\n",
    "            \"properties\": {\n",
    "                \"id\": disease_id,\n",
    "                \"label\": disease_name,\n",
    "                \"meddra_code\": meddra_code,\n",
    "                \"uri\": \"https://hpo.jax.org/app/browse/term/%s\"%disease_id\n",
    "            }\n",
    "        }\n",
    "    edges.append({\n",
    "        \"source\": drug_id,\n",
    "        \"relation\": \"FDA Adverse Event Reporting System (Male)\",\n",
    "        \"target\": disease_id,\n",
    "        \"properties\": {\n",
    "            \"id\": i,\n",
    "            \"source_label\": drug_name,\n",
    "            \"target_label\": disease_name,\n",
    "            \"level\": df.at[i, \"level\"],\n",
    "            \"llr_ratio\": df.at[i, \"llr_ratio\"],\n",
    "            \"sex\": sex,\n",
    "            \"directed\": True,\n",
    "        }\n",
    "    })\n",
    "    "
   ]
  },
  {
   "cell_type": "code",
   "execution_count": 10,
   "metadata": {},
   "outputs": [
    {
     "data": {
      "text/plain": [
       "{'source': 'CID:10947895',\n",
       " 'relation': 'FDA Adverse Event Reporting System (Male)',\n",
       " 'target': 'HP:0001631',\n",
       " 'properties': {'id': 2808625,\n",
       "  'source_label': 'paroxetine',\n",
       "  'target_label': 'Atrial septal defect',\n",
       "  'level': 'PT',\n",
       "  'llr_ratio': 76.77210179076344,\n",
       "  'sex': 'male',\n",
       "  'directed': True}}"
      ]
     },
     "execution_count": 10,
     "metadata": {},
     "output_type": "execute_result"
    }
   ],
   "source": [
    "edges[0]"
   ]
  },
  {
   "cell_type": "code",
   "execution_count": 11,
   "metadata": {},
   "outputs": [],
   "source": [
    "def isNumber(value):\n",
    "    try:\n",
    "        v = float(value)\n",
    "        return {\"@type\": \"number\", \"@value\": v}\n",
    "    except:\n",
    "        return False\n",
    "\n",
    "def typer(value):\n",
    "    numb = isNumber(str(value))\n",
    "    if numb:\n",
    "        return numb\n",
    "    elif isinstance(value, str):\n",
    "        return {\n",
    "            \"@type\": \"string\",\n",
    "            \"@value\": value\n",
    "        }\n",
    "    elif isinstance(value, list):\n",
    "        type_list = []\n",
    "        for i in value:\n",
    "            type_list.append(typer(i))\n",
    "        \n",
    "        return {\n",
    "            \"@type\": \"array\",\n",
    "            \"@value\": type_list\n",
    "        }\n",
    "    elif isinstance(value, dict):\n",
    "        type_dict = {}\n",
    "        for k,v in value.items():\n",
    "            if k == \"id\" or k == \"target\" or k == \"source\":\n",
    "                type_dict[k] = {\n",
    "                    \"@type\": \"string\",\n",
    "                    \"@value\": v\n",
    "                }\n",
    "            else: type_dict[k] = typer(v)\n",
    "        return {\n",
    "            \"@type\": \"object\",\n",
    "            \"@value\": type_dict\n",
    "        }\n",
    "    "
   ]
  },
  {
   "cell_type": "code",
   "execution_count": 12,
   "metadata": {},
   "outputs": [],
   "source": [
    "serialization_v1 = {\n",
    "    \"version\": \"1\",\n",
    "    \"nodes\": nodes,\n",
    "    \"edges\": edges\n",
    "}\n",
    "with open(\"results/drugsto_faers_male.v1.json\", \"w\") as o:\n",
    "    o.write(json.dumps(serialization_v1, indent=2))\n",
    "    \n",
    "nodes_v2 = {}\n",
    "for k,v in nodes.items():\n",
    "    nodes_v2[k] = typer(v)\n",
    "    \n",
    "edges_v2 = []\n",
    "for i in edges:\n",
    "    edges_v2.append(\n",
    "        typer(i)\n",
    "    )\n",
    "\n",
    "serialization_v2 = {\n",
    "    \"version\": \"2\",\n",
    "    \"nodes\": nodes_v2,\n",
    "    \"edges\": edges_v2\n",
    "}\n",
    "with open(\"results/drugsto_faers_male.v2.json\", \"w\") as o:\n",
    "    o.write(json.dumps(serialization_v2, indent=2))"
   ]
  },
  {
   "cell_type": "code",
   "execution_count": 13,
   "metadata": {},
   "outputs": [
    {
     "data": {
      "text/html": [
       "<div>\n",
       "<style scoped>\n",
       "    .dataframe tbody tr th:only-of-type {\n",
       "        vertical-align: middle;\n",
       "    }\n",
       "\n",
       "    .dataframe tbody tr th {\n",
       "        vertical-align: top;\n",
       "    }\n",
       "\n",
       "    .dataframe thead th {\n",
       "        text-align: right;\n",
       "    }\n",
       "</style>\n",
       "<table border=\"1\" class=\"dataframe\">\n",
       "  <thead>\n",
       "    <tr style=\"text-align: right;\">\n",
       "      <th></th>\n",
       "      <th>name</th>\n",
       "      <th>smiles</th>\n",
       "      <th>struct_id</th>\n",
       "      <th>meddra_name</th>\n",
       "      <th>meddra_code</th>\n",
       "      <th>level</th>\n",
       "      <th>llr_ratio</th>\n",
       "    </tr>\n",
       "    <tr>\n",
       "      <th>id</th>\n",
       "      <th></th>\n",
       "      <th></th>\n",
       "      <th></th>\n",
       "      <th></th>\n",
       "      <th></th>\n",
       "      <th></th>\n",
       "      <th></th>\n",
       "    </tr>\n",
       "  </thead>\n",
       "  <tbody>\n",
       "    <tr>\n",
       "      <th>1913328</th>\n",
       "      <td>paroxetine</td>\n",
       "      <td>FC1=CC=C(C=C1)[C@@H]1CCNC[C@H]1COC1=CC2=C(OCO2...</td>\n",
       "      <td>2068</td>\n",
       "      <td>Atrial septal defect</td>\n",
       "      <td>10003664</td>\n",
       "      <td>PT</td>\n",
       "      <td>73.282540</td>\n",
       "    </tr>\n",
       "    <tr>\n",
       "      <th>2687052</th>\n",
       "      <td>paroxetine</td>\n",
       "      <td>FC1=CC=C(C=C1)[C@@H]1CCNC[C@H]1COC1=CC2=C(OCO2...</td>\n",
       "      <td>2068</td>\n",
       "      <td>Ventricular septal defect</td>\n",
       "      <td>10047298</td>\n",
       "      <td>PT</td>\n",
       "      <td>39.521558</td>\n",
       "    </tr>\n",
       "    <tr>\n",
       "      <th>2468561</th>\n",
       "      <td>paroxetine</td>\n",
       "      <td>FC1=CC=C(C=C1)[C@@H]1CCNC[C@H]1COC1=CC2=C(OCO2...</td>\n",
       "      <td>2068</td>\n",
       "      <td>Patent ductus arteriosus</td>\n",
       "      <td>10034130</td>\n",
       "      <td>PT</td>\n",
       "      <td>37.840621</td>\n",
       "    </tr>\n",
       "    <tr>\n",
       "      <th>2526066</th>\n",
       "      <td>paroxetine</td>\n",
       "      <td>FC1=CC=C(C=C1)[C@@H]1CCNC[C@H]1COC1=CC2=C(OCO2...</td>\n",
       "      <td>2068</td>\n",
       "      <td>Pulmonary valve stenosis</td>\n",
       "      <td>10037450</td>\n",
       "      <td>PT</td>\n",
       "      <td>20.479050</td>\n",
       "    </tr>\n",
       "    <tr>\n",
       "      <th>1913434</th>\n",
       "      <td>lamotrigine</td>\n",
       "      <td>NC1=NN=C(C(N)=N1)C1=C(Cl)C(Cl)=CC=C1</td>\n",
       "      <td>1540</td>\n",
       "      <td>Atrial septal defect</td>\n",
       "      <td>10003664</td>\n",
       "      <td>PT</td>\n",
       "      <td>17.524641</td>\n",
       "    </tr>\n",
       "  </tbody>\n",
       "</table>\n",
       "</div>"
      ],
      "text/plain": [
       "                name                                             smiles  \\\n",
       "id                                                                        \n",
       "1913328   paroxetine  FC1=CC=C(C=C1)[C@@H]1CCNC[C@H]1COC1=CC2=C(OCO2...   \n",
       "2687052   paroxetine  FC1=CC=C(C=C1)[C@@H]1CCNC[C@H]1COC1=CC2=C(OCO2...   \n",
       "2468561   paroxetine  FC1=CC=C(C=C1)[C@@H]1CCNC[C@H]1COC1=CC2=C(OCO2...   \n",
       "2526066   paroxetine  FC1=CC=C(C=C1)[C@@H]1CCNC[C@H]1COC1=CC2=C(OCO2...   \n",
       "1913434  lamotrigine               NC1=NN=C(C(N)=N1)C1=C(Cl)C(Cl)=CC=C1   \n",
       "\n",
       "         struct_id                meddra_name  meddra_code level  llr_ratio  \n",
       "id                                                                           \n",
       "1913328       2068       Atrial septal defect     10003664    PT  73.282540  \n",
       "2687052       2068  Ventricular septal defect     10047298    PT  39.521558  \n",
       "2468561       2068   Patent ductus arteriosus     10034130    PT  37.840621  \n",
       "2526066       2068   Pulmonary valve stenosis     10037450    PT  20.479050  \n",
       "1913434       1540       Atrial septal defect     10003664    PT  17.524641  "
      ]
     },
     "execution_count": 13,
     "metadata": {},
     "output_type": "execute_result"
    }
   ],
   "source": [
    "input_file = \"data/drugsto_faers_female.csv\"\n",
    "df = pd.read_csv(input_file, sep=\"\\t\", index_col=2)\n",
    "df.head()"
   ]
  },
  {
   "cell_type": "code",
   "execution_count": 14,
   "metadata": {},
   "outputs": [
    {
     "name": "stderr",
     "output_type": "stream",
     "text": [
      "100%|██████████| 193/193 [00:03<00:00, 51.00it/s] \n"
     ]
    }
   ],
   "source": [
    "for i in tqdm.tqdm(df.index):\n",
    "    disease = df.at[i, 'meddra_name']\n",
    "    if disease not in disease_names:\n",
    "        obo_id = get_hpo(disease)\n",
    "        time.sleep(0.2)\n",
    "        if obo_id:\n",
    "            disease_names[disease] = obo_id\n",
    "        else:\n",
    "            disease_id = df.at[i, 'meddra_code']\n",
    "            disease_names[disease] = \"meddra_%s\"%disease_id"
   ]
  },
  {
   "cell_type": "code",
   "execution_count": 15,
   "metadata": {},
   "outputs": [
    {
     "name": "stderr",
     "output_type": "stream",
     "text": [
      "100%|██████████| 193/193 [00:15<00:00, 12.81it/s]\n"
     ]
    }
   ],
   "source": [
    "for i in tqdm.tqdm(df.index):\n",
    "    drug = df.at[i, 'name']\n",
    "    if drug not in drug_names:\n",
    "        cid = get_cid(drug)\n",
    "        time.sleep(0.2)\n",
    "        if cid:\n",
    "            drug_names[drug] = cid\n",
    "        else:\n",
    "            drug_id = df.at[i, 'struct_id']\n",
    "            drug_names[drug] = \"DC_%s\"%drug_id"
   ]
  },
  {
   "cell_type": "code",
   "execution_count": 16,
   "metadata": {},
   "outputs": [],
   "source": [
    "nodes = {}\n",
    "edges = []\n",
    "sex = \"female\"\n",
    "for i in df.index:\n",
    "    drug_name = df.at[i, \"name\"]\n",
    "    drug_id = str(drug_names[drug_name])\n",
    "    drug_smiles = df.at[i, \"smiles\"]\n",
    "    drugcentral_id = str(df.at[i, \"struct_id\"])\n",
    "    \n",
    "    if drug_id not in nodes:\n",
    "        nodes[drug_id] = {\n",
    "            \"type\": \"Drug\",\n",
    "            \"properties\": {\n",
    "                \"id\": drug_id,\n",
    "                \"label\": drug_name,\n",
    "                \"drugcentral_id\": drugcentral_id,\n",
    "                \"smiles\": drug_smiles\n",
    "            }\n",
    "        }\n",
    "    \n",
    "    disease_name = df.at[i, \"meddra_name\"]\n",
    "    disease_id = str(disease_names[disease_name])\n",
    "    meddra_code = str(df.at[i, \"meddra_code\"])\n",
    "\n",
    "    if disease_id not in nodes:\n",
    "        nodes[disease_id] = {\n",
    "            \"type\": \"BirthDefect\",\n",
    "            \"properties\": {\n",
    "                \"id\": disease_id,\n",
    "                \"label\": disease_name,\n",
    "                \"meddra_code\": meddra_code\n",
    "            }\n",
    "        }\n",
    "    edges.append({\n",
    "        \"source\": drug_id,\n",
    "        \"relation\": \"FDA Adverse Event Reporting System (Female)\",\n",
    "        \"target\": disease_id,\n",
    "        \"properties\": {\n",
    "            \"id\": i,\n",
    "            \"source_label\": drug_name,\n",
    "            \"target_label\": disease_name,\n",
    "            \"level\": df.at[i, \"level\"],\n",
    "            \"llr_ratio\": df.at[i, \"llr_ratio\"],\n",
    "            \"sex\": sex,\n",
    "            \"directed\": True,\n",
    "        }\n",
    "    })\n",
    "    "
   ]
  },
  {
   "cell_type": "code",
   "execution_count": 17,
   "metadata": {},
   "outputs": [
    {
     "data": {
      "text/plain": [
       "{'source': 'CID:10947895',\n",
       " 'relation': 'FDA Adverse Event Reporting System (Female)',\n",
       " 'target': 'HP:0001631',\n",
       " 'properties': {'id': 1913328,\n",
       "  'source_label': 'paroxetine',\n",
       "  'target_label': 'Atrial septal defect',\n",
       "  'level': 'PT',\n",
       "  'llr_ratio': 73.28254032667141,\n",
       "  'sex': 'female',\n",
       "  'directed': True}}"
      ]
     },
     "execution_count": 17,
     "metadata": {},
     "output_type": "execute_result"
    }
   ],
   "source": [
    "edges[0]"
   ]
  },
  {
   "cell_type": "code",
   "execution_count": 18,
   "metadata": {},
   "outputs": [],
   "source": [
    "serialization_v1 = {\n",
    "    \"version\": \"1\",\n",
    "    \"nodes\": nodes,\n",
    "    \"edges\": edges\n",
    "}\n",
    "with open(\"results/drugsto_faers_female.v1.json\", \"w\") as o:\n",
    "    o.write(json.dumps(serialization_v1, indent=2))\n",
    "    \n",
    "nodes_v2 = {}\n",
    "for k,v in nodes.items():\n",
    "    nodes_v2[k] = typer(v)\n",
    "    \n",
    "edges_v2 = []\n",
    "for i in edges:\n",
    "    edges_v2.append(\n",
    "        typer(i)\n",
    "    )\n",
    "\n",
    "serialization_v2 = {\n",
    "    \"version\": \"2\",\n",
    "    \"nodes\": nodes_v2,\n",
    "    \"edges\": edges_v2\n",
    "}\n",
    "with open(\"results/drugsto_faers_female.v2.json\", \"w\") as o:\n",
    "    o.write(json.dumps(serialization_v2, indent=2))"
   ]
  },
  {
   "cell_type": "code",
   "execution_count": null,
   "metadata": {},
   "outputs": [],
   "source": []
  },
  {
   "cell_type": "code",
   "execution_count": null,
   "metadata": {},
   "outputs": [],
   "source": []
  }
 ],
 "metadata": {
  "kernelspec": {
   "display_name": "Python 3.9.13 ('venv': venv)",
   "language": "python",
   "name": "python3"
  },
  "language_info": {
   "codemirror_mode": {
    "name": "ipython",
    "version": 3
   },
   "file_extension": ".py",
   "mimetype": "text/x-python",
   "name": "python",
   "nbconvert_exporter": "python",
   "pygments_lexer": "ipython3",
   "version": "3.9.13"
  },
  "vscode": {
   "interpreter": {
    "hash": "43fa70dbc3e0e900c09e1e9e147b0eb772ee319912638d9a00663e86ab5de451"
   }
  }
 },
 "nbformat": 4,
 "nbformat_minor": 4
}
